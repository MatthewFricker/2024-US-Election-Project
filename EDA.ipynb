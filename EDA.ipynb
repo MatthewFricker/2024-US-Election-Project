{
 "cells": [
  {
   "cell_type": "code",
   "execution_count": 1,
   "metadata": {},
   "outputs": [],
   "source": [
    "import numpy as np\n",
    "import pandas as pd\n",
    "import geopandas as gpd\n",
    "import matplotlib.pyplot as plt\n",
    "import seaborn as sns"
   ]
  },
  {
   "cell_type": "code",
   "execution_count": 2,
   "metadata": {},
   "outputs": [
    {
     "data": {
      "text/html": [
       "<div>\n",
       "<style scoped>\n",
       "    .dataframe tbody tr th:only-of-type {\n",
       "        vertical-align: middle;\n",
       "    }\n",
       "\n",
       "    .dataframe tbody tr th {\n",
       "        vertical-align: top;\n",
       "    }\n",
       "\n",
       "    .dataframe thead th {\n",
       "        text-align: right;\n",
       "    }\n",
       "</style>\n",
       "<table border=\"1\" class=\"dataframe\">\n",
       "  <thead>\n",
       "    <tr style=\"text-align: right;\">\n",
       "      <th></th>\n",
       "      <th>State_Code</th>\n",
       "      <th>State_Name</th>\n",
       "      <th>geometry</th>\n",
       "    </tr>\n",
       "  </thead>\n",
       "  <tbody>\n",
       "    <tr>\n",
       "      <th>0</th>\n",
       "      <td>AL</td>\n",
       "      <td>ALABAMA</td>\n",
       "      <td>POLYGON ((-9469956.551 3760777.874, -9474975.1...</td>\n",
       "    </tr>\n",
       "    <tr>\n",
       "      <th>1</th>\n",
       "      <td>AK</td>\n",
       "      <td>ALASKA</td>\n",
       "      <td>MULTIPOLYGON (((-17959594.808 8122953.579, -17...</td>\n",
       "    </tr>\n",
       "    <tr>\n",
       "      <th>2</th>\n",
       "      <td>AZ</td>\n",
       "      <td>ARIZONA</td>\n",
       "      <td>POLYGON ((-12748377.957 3898982.239, -12752659...</td>\n",
       "    </tr>\n",
       "    <tr>\n",
       "      <th>3</th>\n",
       "      <td>AR</td>\n",
       "      <td>ARKANSAS</td>\n",
       "      <td>POLYGON ((-10515427.391 4055253.485, -10514418...</td>\n",
       "    </tr>\n",
       "    <tr>\n",
       "      <th>4</th>\n",
       "      <td>CA</td>\n",
       "      <td>CALIFORNIA</td>\n",
       "      <td>MULTIPOLYGON (((-13543710.331 4603367.825, -13...</td>\n",
       "    </tr>\n",
       "  </tbody>\n",
       "</table>\n",
       "</div>"
      ],
      "text/plain": [
       "  State_Code  State_Name                                           geometry\n",
       "0         AL     ALABAMA  POLYGON ((-9469956.551 3760777.874, -9474975.1...\n",
       "1         AK      ALASKA  MULTIPOLYGON (((-17959594.808 8122953.579, -17...\n",
       "2         AZ     ARIZONA  POLYGON ((-12748377.957 3898982.239, -12752659...\n",
       "3         AR    ARKANSAS  POLYGON ((-10515427.391 4055253.485, -10514418...\n",
       "4         CA  CALIFORNIA  MULTIPOLYGON (((-13543710.331 4603367.825, -13..."
      ]
     },
     "execution_count": 2,
     "metadata": {},
     "output_type": "execute_result"
    }
   ],
   "source": [
    "gdf = gpd.read_file(\"States shapefile/States_shapefile.shp\")\n",
    "gdf.drop(columns=[\"FID\", \"Program\", \"Flowing_St\", \"FID_1\"], inplace=True)\n",
    "gdf.head()"
   ]
  },
  {
   "cell_type": "code",
   "execution_count": 3,
   "metadata": {},
   "outputs": [
    {
     "data": {
      "text/html": [
       "<div>\n",
       "<style scoped>\n",
       "    .dataframe tbody tr th:only-of-type {\n",
       "        vertical-align: middle;\n",
       "    }\n",
       "\n",
       "    .dataframe tbody tr th {\n",
       "        vertical-align: top;\n",
       "    }\n",
       "\n",
       "    .dataframe thead th {\n",
       "        text-align: right;\n",
       "    }\n",
       "</style>\n",
       "<table border=\"1\" class=\"dataframe\">\n",
       "  <thead>\n",
       "    <tr style=\"text-align: right;\">\n",
       "      <th></th>\n",
       "      <th>id</th>\n",
       "      <th>geometry</th>\n",
       "    </tr>\n",
       "  </thead>\n",
       "  <tbody>\n",
       "    <tr>\n",
       "      <th>0</th>\n",
       "      <td>WA01</td>\n",
       "      <td>POLYGON ((-122.09655 47.60231, -122.13244 47.6...</td>\n",
       "    </tr>\n",
       "    <tr>\n",
       "      <th>1</th>\n",
       "      <td>WA10</td>\n",
       "      <td>MULTIPOLYGON (((-122.22951 47.25756, -122.2188...</td>\n",
       "    </tr>\n",
       "    <tr>\n",
       "      <th>2</th>\n",
       "      <td>WA02</td>\n",
       "      <td>MULTIPOLYGON (((-122.20153 48.18791, -122.2031...</td>\n",
       "    </tr>\n",
       "    <tr>\n",
       "      <th>3</th>\n",
       "      <td>WA03</td>\n",
       "      <td>POLYGON ((-123.16053 46.83748, -123.12864 46.8...</td>\n",
       "    </tr>\n",
       "    <tr>\n",
       "      <th>4</th>\n",
       "      <td>WA04</td>\n",
       "      <td>POLYGON ((-120.70208 48.53159, -120.68853 48.5...</td>\n",
       "    </tr>\n",
       "  </tbody>\n",
       "</table>\n",
       "</div>"
      ],
      "text/plain": [
       "     id                                           geometry\n",
       "0  WA01  POLYGON ((-122.09655 47.60231, -122.13244 47.6...\n",
       "1  WA10  MULTIPOLYGON (((-122.22951 47.25756, -122.2188...\n",
       "2  WA02  MULTIPOLYGON (((-122.20153 48.18791, -122.2031...\n",
       "3  WA03  POLYGON ((-123.16053 46.83748, -123.12864 46.8...\n",
       "4  WA04  POLYGON ((-120.70208 48.53159, -120.68853 48.5..."
      ]
     },
     "execution_count": 3,
     "metadata": {},
     "output_type": "execute_result"
    }
   ],
   "source": [
    "gdf2 = gpd.read_file(\"Districts shapefile\\congress.shp\")\n",
    "gdf2.drop(columns=[\"congress\", \"fips\", \"name\"], inplace=True)\n",
    "gdf2.head()"
   ]
  },
  {
   "cell_type": "code",
   "execution_count": 4,
   "metadata": {},
   "outputs": [],
   "source": [
    "def view_state(state:str):\n",
    "    gdf2[gdf2[\"id\"].str.contains(state)].plot(figsize=(10,10), edgecolor=\"black\", color=\"lightgreen\")\n",
    "    plt.show()"
   ]
  },
  {
   "cell_type": "code",
   "execution_count": 5,
   "metadata": {},
   "outputs": [
    {
     "data": {
      "image/png": "[encoded data removed]",
      "text/plain": [
       "<Figure size 1000x1000 with 1 Axes>"
      ]
     },
     "metadata": {},
     "output_type": "display_data"
    }
   ],
   "source": [
    "view_state(\"VA\")"
   ]
  },
  {
   "cell_type": "code",
   "execution_count": 6,
   "metadata": {},
   "outputs": [],
   "source": [
    "df = pd.read_csv(\"1976-2020-president.csv\")"
   ]
  },
  {
   "cell_type": "code",
   "execution_count": 7,
   "metadata": {},
   "outputs": [
    {
     "data": {
      "text/html": [
       "<div>\n",
       "<style scoped>\n",
       "    .dataframe tbody tr th:only-of-type {\n",
       "        vertical-align: middle;\n",
       "    }\n",
       "\n",
       "    .dataframe tbody tr th {\n",
       "        vertical-align: top;\n",
       "    }\n",
       "\n",
       "    .dataframe thead th {\n",
       "        text-align: right;\n",
       "    }\n",
       "</style>\n",
       "<table border=\"1\" class=\"dataframe\">\n",
       "  <thead>\n",
       "    <tr style=\"text-align: right;\">\n",
       "      <th></th>\n",
       "      <th>year</th>\n",
       "      <th>state</th>\n",
       "      <th>state_po</th>\n",
       "      <th>state_fips</th>\n",
       "      <th>state_cen</th>\n",
       "      <th>state_ic</th>\n",
       "      <th>office</th>\n",
       "      <th>candidate</th>\n",
       "      <th>party_detailed</th>\n",
       "      <th>writein</th>\n",
       "      <th>candidatevotes</th>\n",
       "      <th>totalvotes</th>\n",
       "      <th>version</th>\n",
       "      <th>notes</th>\n",
       "      <th>party_simplified</th>\n",
       "    </tr>\n",
       "  </thead>\n",
       "  <tbody>\n",
       "    <tr>\n",
       "      <th>0</th>\n",
       "      <td>1976</td>\n",
       "      <td>ALABAMA</td>\n",
       "      <td>AL</td>\n",
       "      <td>1</td>\n",
       "      <td>63</td>\n",
       "      <td>41</td>\n",
       "      <td>US PRESIDENT</td>\n",
       "      <td>CARTER, JIMMY</td>\n",
       "      <td>DEMOCRAT</td>\n",
       "      <td>False</td>\n",
       "      <td>659170</td>\n",
       "      <td>1182850</td>\n",
       "      <td>20210113</td>\n",
       "      <td>NaN</td>\n",
       "      <td>DEMOCRAT</td>\n",
       "    </tr>\n",
       "    <tr>\n",
       "      <th>1</th>\n",
       "      <td>1976</td>\n",
       "      <td>ALABAMA</td>\n",
       "      <td>AL</td>\n",
       "      <td>1</td>\n",
       "      <td>63</td>\n",
       "      <td>41</td>\n",
       "      <td>US PRESIDENT</td>\n",
       "      <td>FORD, GERALD</td>\n",
       "      <td>REPUBLICAN</td>\n",
       "      <td>False</td>\n",
       "      <td>504070</td>\n",
       "      <td>1182850</td>\n",
       "      <td>20210113</td>\n",
       "      <td>NaN</td>\n",
       "      <td>REPUBLICAN</td>\n",
       "    </tr>\n",
       "    <tr>\n",
       "      <th>2</th>\n",
       "      <td>1976</td>\n",
       "      <td>ALABAMA</td>\n",
       "      <td>AL</td>\n",
       "      <td>1</td>\n",
       "      <td>63</td>\n",
       "      <td>41</td>\n",
       "      <td>US PRESIDENT</td>\n",
       "      <td>MADDOX, LESTER</td>\n",
       "      <td>AMERICAN INDEPENDENT PARTY</td>\n",
       "      <td>False</td>\n",
       "      <td>9198</td>\n",
       "      <td>1182850</td>\n",
       "      <td>20210113</td>\n",
       "      <td>NaN</td>\n",
       "      <td>OTHER</td>\n",
       "    </tr>\n",
       "    <tr>\n",
       "      <th>3</th>\n",
       "      <td>1976</td>\n",
       "      <td>ALABAMA</td>\n",
       "      <td>AL</td>\n",
       "      <td>1</td>\n",
       "      <td>63</td>\n",
       "      <td>41</td>\n",
       "      <td>US PRESIDENT</td>\n",
       "      <td>BUBAR, BENJAMIN \"\"BEN\"\"</td>\n",
       "      <td>PROHIBITION</td>\n",
       "      <td>False</td>\n",
       "      <td>6669</td>\n",
       "      <td>1182850</td>\n",
       "      <td>20210113</td>\n",
       "      <td>NaN</td>\n",
       "      <td>OTHER</td>\n",
       "    </tr>\n",
       "    <tr>\n",
       "      <th>4</th>\n",
       "      <td>1976</td>\n",
       "      <td>ALABAMA</td>\n",
       "      <td>AL</td>\n",
       "      <td>1</td>\n",
       "      <td>63</td>\n",
       "      <td>41</td>\n",
       "      <td>US PRESIDENT</td>\n",
       "      <td>HALL, GUS</td>\n",
       "      <td>COMMUNIST PARTY USE</td>\n",
       "      <td>False</td>\n",
       "      <td>1954</td>\n",
       "      <td>1182850</td>\n",
       "      <td>20210113</td>\n",
       "      <td>NaN</td>\n",
       "      <td>OTHER</td>\n",
       "    </tr>\n",
       "  </tbody>\n",
       "</table>\n",
       "</div>"
      ],
      "text/plain": [
       "   year    state state_po  state_fips  state_cen  state_ic        office  \\\n",
       "0  1976  ALABAMA       AL           1         63        41  US PRESIDENT   \n",
       "1  1976  ALABAMA       AL           1         63        41  US PRESIDENT   \n",
       "2  1976  ALABAMA       AL           1         63        41  US PRESIDENT   \n",
       "3  1976  ALABAMA       AL           1         63        41  US PRESIDENT   \n",
       "4  1976  ALABAMA       AL           1         63        41  US PRESIDENT   \n",
       "\n",
       "                 candidate              party_detailed writein  \\\n",
       "0            CARTER, JIMMY                    DEMOCRAT   False   \n",
       "1             FORD, GERALD                  REPUBLICAN   False   \n",
       "2           MADDOX, LESTER  AMERICAN INDEPENDENT PARTY   False   \n",
       "3  BUBAR, BENJAMIN \"\"BEN\"\"                 PROHIBITION   False   \n",
       "4                HALL, GUS         COMMUNIST PARTY USE   False   \n",
       "\n",
       "   candidatevotes  totalvotes   version  notes party_simplified  \n",
       "0          659170     1182850  20210113    NaN         DEMOCRAT  \n",
       "1          504070     1182850  20210113    NaN       REPUBLICAN  \n",
       "2            9198     1182850  20210113    NaN            OTHER  \n",
       "3            6669     1182850  20210113    NaN            OTHER  \n",
       "4            1954     1182850  20210113    NaN            OTHER  "
      ]
     },
     "execution_count": 7,
     "metadata": {},
     "output_type": "execute_result"
    }
   ],
   "source": [
    "df.head()"
   ]
  },
  {
   "cell_type": "code",
   "execution_count": 8,
   "metadata": {},
   "outputs": [],
   "source": [
    "def plot_results(year, df):\n",
    "    idx = df[df[\"year\"] == year].groupby(\"state\")[\"candidatevotes\"].idxmax()\n",
    "    max_scores = df.loc[idx]\n",
    "    res = pd.merge(gdf, max_scores, left_on=\"State_Name\", right_on=\"state\")\n",
    "    ax = res[res[\"party_simplified\"] == \"DEMOCRAT\"].plot(figsize=(10,10), edgecolor=\"none\", color=\"blue\")\n",
    "    res[res[\"party_simplified\"] == \"REPUBLICAN\"].plot(figsize=(10,10), edgecolor=\"none\", color=\"red\", ax=ax)\n",
    "    plt.show()\n",
    "    return res"
   ]
  },
  {
   "cell_type": "code",
   "execution_count": 12,
   "metadata": {},
   "outputs": [
    {
     "data": {
      "image/png": "[encoded data removed]",
      "text/plain": [
       "<Figure size 1000x1000 with 1 Axes>"
      ]
     },
     "metadata": {},
     "output_type": "display_data"
    }
   ],
   "source": [
    "res = plot_results(1976, df)"
   ]
  },
  {
   "cell_type": "code",
   "execution_count": 13,
   "metadata": {},
   "outputs": [],
   "source": [
    "sdf = pd.read_csv(\"1976-2020-senate.csv\", encoding='unicode_escape')"
   ]
  },
  {
   "cell_type": "code",
   "execution_count": 67,
   "metadata": {},
   "outputs": [],
   "source": [
    "polls = pd.read_csv(\"president_polls.csv\")"
   ]
  },
  {
   "cell_type": "code",
   "execution_count": 68,
   "metadata": {},
   "outputs": [],
   "source": [
    "from datetime import datetime, timedelta\n",
    "bdd = datetime(year=2024, month=7, day=21)"
   ]
  },
  {
   "cell_type": "code",
   "execution_count": 69,
   "metadata": {},
   "outputs": [],
   "source": [
    "polls[\"state\"] = polls[\"state\"].fillna(\"National\")"
   ]
  },
  {
   "cell_type": "code",
   "execution_count": 70,
   "metadata": {},
   "outputs": [
    {
     "name": "stderr",
     "output_type": "stream",
     "text": [
      "C:\\Users\\matth\\AppData\\Local\\Temp\\ipykernel_4916\\1684343794.py:1: UserWarning: Could not infer format, so each element will be parsed individually, falling back to `dateutil`. To ensure parsing is consistent and as-expected, please specify a format.\n",
      "  polls[\"created_at\"] = pd.to_datetime(polls[\"created_at\"])\n"
     ]
    }
   ],
   "source": [
    "polls[\"created_at\"] = pd.to_datetime(polls[\"created_at\"])"
   ]
  },
  {
   "cell_type": "code",
   "execution_count": 71,
   "metadata": {},
   "outputs": [
    {
     "data": {
      "text/html": [
       "<div>\n",
       "<style scoped>\n",
       "    .dataframe tbody tr th:only-of-type {\n",
       "        vertical-align: middle;\n",
       "    }\n",
       "\n",
       "    .dataframe tbody tr th {\n",
       "        vertical-align: top;\n",
       "    }\n",
       "\n",
       "    .dataframe thead th {\n",
       "        text-align: right;\n",
       "    }\n",
       "</style>\n",
       "<table border=\"1\" class=\"dataframe\">\n",
       "  <thead>\n",
       "    <tr style=\"text-align: right;\">\n",
       "      <th></th>\n",
       "      <th>pollster</th>\n",
       "      <th>answer</th>\n",
       "      <th>pct</th>\n",
       "      <th>created_at</th>\n",
       "    </tr>\n",
       "  </thead>\n",
       "  <tbody>\n",
       "    <tr>\n",
       "      <th>2193</th>\n",
       "      <td>Capitol Weekly</td>\n",
       "      <td>Harris</td>\n",
       "      <td>54.0</td>\n",
       "      <td>2024-07-29 20:21:00</td>\n",
       "    </tr>\n",
       "    <tr>\n",
       "      <th>1677</th>\n",
       "      <td>Capitol Weekly</td>\n",
       "      <td>Harris</td>\n",
       "      <td>54.0</td>\n",
       "      <td>2024-07-29 20:22:00</td>\n",
       "    </tr>\n",
       "    <tr>\n",
       "      <th>1300</th>\n",
       "      <td>Capitol Weekly</td>\n",
       "      <td>Harris</td>\n",
       "      <td>59.0</td>\n",
       "      <td>2024-07-30 15:54:00</td>\n",
       "    </tr>\n",
       "    <tr>\n",
       "      <th>725</th>\n",
       "      <td>UC Berkeley</td>\n",
       "      <td>Harris</td>\n",
       "      <td>59.0</td>\n",
       "      <td>2024-08-14 10:55:00</td>\n",
       "    </tr>\n",
       "    <tr>\n",
       "      <th>211</th>\n",
       "      <td>ActiVote</td>\n",
       "      <td>Harris</td>\n",
       "      <td>65.3</td>\n",
       "      <td>2024-08-19 15:30:00</td>\n",
       "    </tr>\n",
       "    <tr>\n",
       "      <th>414</th>\n",
       "      <td>Capitol Weekly</td>\n",
       "      <td>Harris</td>\n",
       "      <td>57.0</td>\n",
       "      <td>2024-08-25 13:18:00</td>\n",
       "    </tr>\n",
       "  </tbody>\n",
       "</table>\n",
       "</div>"
      ],
      "text/plain": [
       "            pollster  answer   pct          created_at\n",
       "2193  Capitol Weekly  Harris  54.0 2024-07-29 20:21:00\n",
       "1677  Capitol Weekly  Harris  54.0 2024-07-29 20:22:00\n",
       "1300  Capitol Weekly  Harris  59.0 2024-07-30 15:54:00\n",
       "725      UC Berkeley  Harris  59.0 2024-08-14 10:55:00\n",
       "211         ActiVote  Harris  65.3 2024-08-19 15:30:00\n",
       "414   Capitol Weekly  Harris  57.0 2024-08-25 13:18:00"
      ]
     },
     "execution_count": 71,
     "metadata": {},
     "output_type": "execute_result"
    }
   ],
   "source": [
    "idx = polls[(polls[\"state\"] == \"California\") & (polls[\"created_at\"] > bdd)].groupby(\"poll_id\")[\"pct\"].idxmax()\n",
    "polls.loc[idx][[\"pollster\",\"answer\", \"pct\", \"created_at\"]]"
   ]
  },
  {
   "cell_type": "code",
   "execution_count": 72,
   "metadata": {},
   "outputs": [],
   "source": [
    "harris_polls = polls.loc[polls[polls[\"answer\"] == \"Harris\"].index][\"question_id\"]\n",
    "trump_polls = polls.loc[polls[polls[\"answer\"] == \"Trump\"].index][\"question_id\"]"
   ]
  },
  {
   "cell_type": "code",
   "execution_count": 73,
   "metadata": {},
   "outputs": [],
   "source": [
    "trump_harris_polls = polls[(polls[\"question_id\"].isin(harris_polls)) & (polls[\"question_id\"].isin(trump_polls)) & (polls[\"created_at\"] > bdd)]"
   ]
  },
  {
   "cell_type": "code",
   "execution_count": 74,
   "metadata": {},
   "outputs": [
    {
     "data": {
      "text/plain": [
       "0       North Carolina\n",
       "1       North Carolina\n",
       "2             National\n",
       "3             National\n",
       "4             National\n",
       "             ...      \n",
       "2286      Pennsylvania\n",
       "2337           Arizona\n",
       "2338           Arizona\n",
       "2351         Wisconsin\n",
       "2352         Wisconsin\n",
       "Name: state, Length: 1678, dtype: object"
      ]
     },
     "execution_count": 74,
     "metadata": {},
     "output_type": "execute_result"
    }
   ],
   "source": [
    "trump_harris_polls[\"state\"]"
   ]
  },
  {
   "cell_type": "code",
   "execution_count": 75,
   "metadata": {},
   "outputs": [],
   "source": [
    "pivot = pd.pivot_table(trump_harris_polls, values=\"pct\", columns=[\"answer\"], index=[\"question_id\", \"pollster\", \"state\", \"created_at\"])"
   ]
  },
  {
   "cell_type": "code",
   "execution_count": 76,
   "metadata": {},
   "outputs": [],
   "source": [
    "pivot[\"winner\"] = pivot.idxmax(axis=1)"
   ]
  },
  {
   "cell_type": "code",
   "execution_count": 77,
   "metadata": {},
   "outputs": [],
   "source": [
    "pivot[\"margin\"] = np.abs(pivot[\"Harris\"] - pivot[\"Trump\"])"
   ]
  },
  {
   "cell_type": "code",
   "execution_count": 78,
   "metadata": {},
   "outputs": [],
   "source": [
    "pivot.reset_index(inplace=True)"
   ]
  },
  {
   "cell_type": "code",
   "execution_count": 79,
   "metadata": {},
   "outputs": [],
   "source": [
    "pivot[\"days_old\"] = (datetime.now() - pivot[\"created_at\"]).dt.days"
   ]
  },
  {
   "cell_type": "code",
   "execution_count": 80,
   "metadata": {},
   "outputs": [],
   "source": [
    "pivot[\"time_weight\"] = 0.95 ** pivot[\"days_old\"]"
   ]
  },
  {
   "cell_type": "code",
   "execution_count": 81,
   "metadata": {},
   "outputs": [],
   "source": [
    "def get_state_averages(state):\n",
    "    state_df = pivot[pivot[\"state\"] == state]\n",
    "    total_weight = state_df[\"time_weight\"].sum()\n",
    "    harris = (state_df[\"Harris\"] * state_df[\"time_weight\"]).sum() / total_weight\n",
    "    trump = (state_df[\"Trump\"] * state_df[\"time_weight\"]).sum() / total_weight\n",
    "    print(f\"{state}\\nHarris: {harris:.2f}\\nTrump:  {trump:.2f}\")"
   ]
  },
  {
   "cell_type": "code",
   "execution_count": 82,
   "metadata": {},
   "outputs": [
    {
     "name": "stdout",
     "output_type": "stream",
     "text": [
      "New Hampshire\n",
      "Harris: 50.28\n",
      "Trump:  44.40\n",
      "\n",
      "Georgia\n",
      "Harris: 45.56\n",
      "Trump:  47.97\n",
      "\n",
      "National\n",
      "Harris: 46.98\n",
      "Trump:  44.70\n",
      "\n",
      "Arizona\n",
      "Harris: 45.17\n",
      "Trump:  45.55\n",
      "\n",
      "Michigan\n",
      "Harris: 46.99\n",
      "Trump:  44.55\n",
      "\n",
      "Pennsylvania\n",
      "Harris: 47.11\n",
      "Trump:  46.43\n",
      "\n",
      "Wisconsin\n",
      "Harris: 48.05\n",
      "Trump:  45.08\n",
      "\n",
      "North Carolina\n",
      "Harris: 46.28\n",
      "Trump:  46.24\n",
      "\n",
      "Maine\n",
      "Harris: 55.40\n",
      "Trump:  40.10\n",
      "\n",
      "Florida\n",
      "Harris: 44.54\n",
      "Trump:  49.14\n",
      "\n",
      "Minnesota\n",
      "Harris: 47.37\n",
      "Trump:  41.06\n",
      "\n",
      "Nevada\n",
      "Harris: 45.78\n",
      "Trump:  44.49\n",
      "\n",
      "Washington\n",
      "Harris: 46.78\n",
      "Trump:  39.49\n",
      "\n",
      "California\n",
      "Harris: 59.04\n",
      "Trump:  35.24\n",
      "\n",
      "Oregon\n",
      "Harris: 47.00\n",
      "Trump:  42.00\n",
      "\n",
      "Ohio\n",
      "Harris: 42.46\n",
      "Trump:  53.69\n",
      "\n",
      "New York\n",
      "Harris: 54.88\n",
      "Trump:  39.97\n",
      "\n",
      "New Mexico\n",
      "Harris: 49.81\n",
      "Trump:  41.86\n",
      "\n",
      "Montana\n",
      "Harris: 39.38\n",
      "Trump:  54.90\n",
      "\n",
      "Maine CD-1\n",
      "Harris: 61.12\n",
      "Trump:  35.66\n",
      "\n",
      "Maine CD-2\n",
      "Harris: 48.26\n",
      "Trump:  46.30\n",
      "\n",
      "Texas\n",
      "Harris: 43.95\n",
      "Trump:  48.57\n",
      "\n",
      "Nebraska CD-2\n",
      "Harris: 48.38\n",
      "Trump:  42.00\n",
      "\n",
      "Virginia\n",
      "Harris: 46.99\n",
      "Trump:  44.07\n",
      "\n",
      "Vermont\n",
      "Harris: 68.50\n",
      "Trump:  28.00\n",
      "\n",
      "Utah\n",
      "Harris: 26.50\n",
      "Trump:  55.50\n",
      "\n",
      "Missouri\n",
      "Harris: 41.30\n",
      "Trump:  58.70\n",
      "\n",
      "Maryland\n",
      "Harris: 61.50\n",
      "Trump:  30.50\n",
      "\n"
     ]
    }
   ],
   "source": [
    "for state in pivot[\"state\"].unique():\n",
    "    get_state_averages(state)\n",
    "    print()"
   ]
  },
  {
   "cell_type": "code",
   "execution_count": 74,
   "metadata": {},
   "outputs": [
    {
     "data": {
      "text/plain": [
       "array(['Florida', 'New Hampshire', 'Texas', 'Arizona', 'Georgia',\n",
       "       'Michigan', 'Nevada', 'Pennsylvania', 'Wisconsin', 'California',\n",
       "       'North Carolina', 'Ohio', 'Virginia', 'Washington', 'New York',\n",
       "       'Maine', 'Minnesota', 'Oregon', 'New Mexico', 'Montana',\n",
       "       'Maine CD-1', 'Maine CD-2', 'Nebraska CD-2'], dtype=object)"
      ]
     },
     "execution_count": 74,
     "metadata": {},
     "output_type": "execute_result"
    }
   ],
   "source": [
    "pivot[\"state\"].unique()"
   ]
  },
  {
   "cell_type": "code",
   "execution_count": 77,
   "metadata": {},
   "outputs": [
    {
     "data": {
      "text/html": [
       "<div>\n",
       "<style scoped>\n",
       "    .dataframe tbody tr th:only-of-type {\n",
       "        vertical-align: middle;\n",
       "    }\n",
       "\n",
       "    .dataframe tbody tr th {\n",
       "        vertical-align: top;\n",
       "    }\n",
       "\n",
       "    .dataframe thead th {\n",
       "        text-align: right;\n",
       "    }\n",
       "</style>\n",
       "<table border=\"1\" class=\"dataframe\">\n",
       "  <thead>\n",
       "    <tr style=\"text-align: right;\">\n",
       "      <th>answer</th>\n",
       "      <th>question_id</th>\n",
       "      <th>pollster</th>\n",
       "      <th>state</th>\n",
       "      <th>created_at</th>\n",
       "      <th>De la Cruz</th>\n",
       "      <th>Harris</th>\n",
       "      <th>Kennedy</th>\n",
       "      <th>Oliver</th>\n",
       "      <th>Stein</th>\n",
       "      <th>Terry</th>\n",
       "      <th>Trump</th>\n",
       "      <th>West</th>\n",
       "      <th>winner</th>\n",
       "      <th>margin</th>\n",
       "      <th>days_old</th>\n",
       "      <th>time_weight</th>\n",
       "    </tr>\n",
       "  </thead>\n",
       "  <tbody>\n",
       "  </tbody>\n",
       "</table>\n",
       "</div>"
      ],
      "text/plain": [
       "Empty DataFrame\n",
       "Columns: [question_id, pollster, state, created_at, De la Cruz, Harris, Kennedy, Oliver, Stein, Terry, Trump, West, winner, margin, days_old, time_weight]\n",
       "Index: []"
      ]
     },
     "execution_count": 77,
     "metadata": {},
     "output_type": "execute_result"
    }
   ],
   "source": [
    "pivot[pivot[\"state\"] == \"\"]"
   ]
  },
  {
   "cell_type": "code",
   "execution_count": 80,
   "metadata": {},
   "outputs": [
    {
     "data": {
      "text/plain": [
       "4        NaN\n",
       "5        NaN\n",
       "6        NaN\n",
       "7        NaN\n",
       "8        NaN\n",
       "        ... \n",
       "12329    NaN\n",
       "12330    NaN\n",
       "12331    NaN\n",
       "12332    NaN\n",
       "12333    NaN\n",
       "Name: state, Length: 6537, dtype: object"
      ]
     },
     "execution_count": 80,
     "metadata": {},
     "output_type": "execute_result"
    }
   ],
   "source": [
    "polls[polls[\"state\"].isnull()]"
   ]
  }
 ],
 "metadata": {
  "kernelspec": {
   "display_name": "base",
   "language": "python",
   "name": "python3"
  },
  "language_info": {
   "codemirror_mode": {
    "name": "ipython",
    "version": 3
   },
   "file_extension": ".py",
   "mimetype": "text/x-python",
   "name": "python",
   "nbconvert_exporter": "python",
   "pygments_lexer": "ipython3",
   "version": "3.11.7"
  }
 },
 "nbformat": 4,
 "nbformat_minor": 2
}
